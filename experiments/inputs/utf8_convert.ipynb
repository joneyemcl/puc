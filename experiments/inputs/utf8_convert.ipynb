{
 "cells": [
  {
   "cell_type": "code",
   "execution_count": 1,
   "id": "d47420ca",
   "metadata": {},
   "outputs": [
    {
     "name": "stdout",
     "output_type": "stream",
     "text": [
      "File encoding converted to UTF-8 and saved as units_utf8.json\n"
     ]
    }
   ],
   "source": [
    "import codecs\n",
    "\n",
    "input_file = 'units.json'\n",
    "output_file = 'units_utf8.json'\n",
    "\n",
    "# Read the file with the detected encoding\n",
    "with codecs.open(input_file, 'r', encoding='utf-8', errors='ignore') as f:\n",
    "    content = f.read()\n",
    "\n",
    "# Write the content to a new file with UTF-8 encoding\n",
    "with open(output_file, 'w', encoding='utf-8') as f:\n",
    "    f.write(content)\n",
    "\n",
    "print(\"File encoding converted to UTF-8 and saved as units_utf8.json\")\n"
   ]
  },
  {
   "cell_type": "code",
   "execution_count": null,
   "id": "edc67625",
   "metadata": {},
   "outputs": [],
   "source": []
  }
 ],
 "metadata": {
  "kernelspec": {
   "display_name": "Python (my_project_env)",
   "language": "python",
   "name": "my_project_env"
  },
  "language_info": {
   "codemirror_mode": {
    "name": "ipython",
    "version": 3
   },
   "file_extension": ".py",
   "mimetype": "text/x-python",
   "name": "python",
   "nbconvert_exporter": "python",
   "pygments_lexer": "ipython3",
   "version": "3.9.12"
  }
 },
 "nbformat": 4,
 "nbformat_minor": 5
}
