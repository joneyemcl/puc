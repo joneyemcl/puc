{
 "cells": [
  {
   "cell_type": "code",
   "execution_count": 3,
   "id": "5e9d76ed",
   "metadata": {},
   "outputs": [
    {
     "name": "stdout",
     "output_type": "stream",
     "text": [
      "Does the file have headers? (yes/no): yes\n",
      "       numunitid           Description\n",
      "0              1                     %\n",
      "1              2                  % HB\n",
      "2              3                 (0-3)\n",
      "3              4           *10^6/cu mm\n",
      "4              5            *10^9/cumm\n",
      "...          ...                   ...\n",
      "29136      29324  /tabacco pack weekly\n",
      "29137      29325               monthys\n",
      "29138      29326         U/every month\n",
      "29139      29327          /pipe dailly\n",
      "29140      29328                 12/29\n",
      "\n",
      "[29141 rows x 2 columns]\n",
      "hey, that worked?\n"
     ]
    }
   ],
   "source": [
    "import pandas as pd\n",
    "\n",
    "# Function to create DataFrame from .txt file\n",
    "def create_dataframe(file_path, delimiter, has_headers=True):\n",
    "    if has_headers:\n",
    "        df = pd.read_csv(file_path, sep=delimiter)\n",
    "    else:\n",
    "        df = pd.read_csv(file_path, sep=delimiter, header=None)\n",
    "    return df\n",
    "\n",
    "# User input for file path and delimiter\n",
    "file_path = \"NumUnit.txt\"\n",
    "delimiter = '\\t'\n",
    "has_headers = input(\"Does the file have headers? (yes/no): \").strip().lower() == 'yes'\n",
    "\n",
    "# Create the DataFrame\n",
    "df = create_dataframe(file_path, delimiter, has_headers)\n",
    "\n",
    "# Display the DataFrame\n",
    "print(df)\n",
    "\n",
    "csv_filename = 'NumUnit.csv'\n",
    "df.to_csv(csv_filename, index=False)\n",
    "\n",
    "print(\"hey, that worked?\")"
   ]
  },
  {
   "cell_type": "code",
   "execution_count": null,
   "id": "556583d5",
   "metadata": {},
   "outputs": [],
   "source": []
  }
 ],
 "metadata": {
  "kernelspec": {
   "display_name": "Python (my_project_env)",
   "language": "python",
   "name": "my_project_env"
  },
  "language_info": {
   "codemirror_mode": {
    "name": "ipython",
    "version": 3
   },
   "file_extension": ".py",
   "mimetype": "text/x-python",
   "name": "python",
   "nbconvert_exporter": "python",
   "pygments_lexer": "ipython3",
   "version": "3.9.12"
  }
 },
 "nbformat": 4,
 "nbformat_minor": 5
}
